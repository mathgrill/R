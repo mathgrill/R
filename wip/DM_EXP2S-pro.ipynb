{
 "cells": [
  {
   "cell_type": "code",
   "execution_count": 1,
   "metadata": {},
   "outputs": [
    {
     "data": {
      "text/html": [
       "<style>.container { width:80% !important; }</style>"
      ],
      "text/plain": [
       "<IPython.core.display.HTML object>"
      ]
     },
     "metadata": {},
     "output_type": "display_data"
    }
   ],
   "source": [
    "from IPython.core.display import display, HTML\n",
    "display(HTML(\"<style>.container { width:80% !important; }</style>\"))\n",
    "# https://www.kaggle.com/imdevskp/corona-virus-report\n",
    "# https://python-graph-gallery.com/405-dendrogram-with-heatmap-and-coloured-leaves/\n",
    "# https://stackoverflow.com/questions/26615019/python-proportion-test-similar-to-prop-test-in-r"
   ]
  },
  {
   "cell_type": "code",
   "execution_count": 2,
   "metadata": {},
   "outputs": [],
   "source": [
    "# standard libs\n",
    "import pandas as pd\n",
    "import numpy as np\n",
    "import plotly.express as px\n",
    "import psycopg2\n",
    "from scipy import stats\n",
    "import datetime\n",
    "import seaborn as sns\n",
    "import matplotlib.pyplot as plt"
   ]
  },
  {
   "cell_type": "code",
   "execution_count": 3,
   "metadata": {},
   "outputs": [],
   "source": [
    "# carlo b class\n",
    "from DMexp3 import DM"
   ]
  },
  {
   "cell_type": "code",
   "execution_count": 4,
   "metadata": {},
   "outputs": [],
   "source": [
    "colors = [\"#3366cc\",\"#dc3912\",\"#ff9900\",\"#109618\",\"#990099\",\"#0099c6\",\"#dd4477\",\"#66aa00\",\"#b82e2e\",\"#316395\",\"#3366cc\",\"#994499\",\"#22aa99\",\"#aaaa11\",\"#6633cc\",\"#e67300\",\"#8b0707\",\"#651067\",\"#329262\",\"#5574a6\",\"#3b3eac\",\"#b77322\",\"#16d620\",\"#b91383\",\"#f4359e\",\"#9c5935\",\"#a9c413\",\"#2a778d\",\"#668d1c\",\"#bea413\",\"#0c5922\",\"#743411\"]"
   ]
  },
  {
   "cell_type": "code",
   "execution_count": 5,
   "metadata": {},
   "outputs": [],
   "source": [
    "exp = 3\n",
    "if exp == 3:\n",
    "    ### EXP2\n",
    "    my_data_view = \"public.vw_exp3\"\n",
    "    vars_num = [\"bmi\"]\n",
    "    vars_bin = [\n",
    "        \"outcome\",\n",
    "        \"sex\",\n",
    "        \"electsurg\",\n",
    "        \"ventilat\",\n",
    "        \"cdmi\",\n",
    "        \"cnscva\",\n",
    "        \"ascites\",\n",
    "        \"hypermed\",\n",
    "        \"renafail\",\n",
    "        \"dialysis\",\n",
    "        \"discancr\",\n",
    "        \"wndinf\",\n",
    "        \"steroid\",\n",
    "        \"wtloss\",\n",
    "        \"bleeddis\",\n",
    "        \"transfus\",\n",
    "        \"supinfec\",\n",
    "        \"wndinfd\",\n",
    "        \"orgspcssi\",\n",
    "        \"dehis\",\n",
    "        \"oupneumo\",\n",
    "        \"reintub\",\n",
    "        \"pulembol\",\n",
    "        \"renainsf\",\n",
    "        \"oprenafl\",\n",
    "        \"urninfec\",\n",
    "        \"cdarrest\",\n",
    "        \"othbleed\",\n",
    "        \"othdvt\",\n",
    "        \"othsysep\",\n",
    "        \"othseshock\",\n",
    "        \"othcdiff\",\n",
    "        \"mortality\",\n",
    "    ]\n",
    "    vars_cat = [\n",
    "        \"race_new\",\n",
    "        \"diabetes\",\n",
    "        \"surgspec\",\n",
    "        \"dyspnea\",\n",
    "        \"prsepis\",\n",
    "        \"asaclas\",\n",
    "        \"wound_closure\",\n",
    "    ]\n",
    "  \n",
    "if exp == 2:\n",
    "    ### EXP2\n",
    "    my_data_view = \"public.vw_exp2\"\n",
    "    vars_num = [\"bmi\", \"pro_numnodes\", \"pro_clear_radial\"]\n",
    "    vars_bin = [\n",
    "        \"outcome\",\n",
    "        \"sex\",\n",
    "        \"smoke\",\n",
    "        \"cdmi\",\n",
    "        \"hxchf\",\n",
    "        \"cnscva\",\n",
    "        \"hxcopd\",\n",
    "        \"ascites\",\n",
    "        \"discancr\",\n",
    "        \"steroid\",\n",
    "        \"wtloss\",\n",
    "        \"bleeddis\",\n",
    "        \"supinfec\",\n",
    "        \"wndinfd\",\n",
    "        \"orgspcssi\",\n",
    "        \"dehis\",\n",
    "        \"oupneumo\",\n",
    "        \"reintub\",\n",
    "        \"pulembol\",\n",
    "        \"failwean\",\n",
    "        \"renainsf\",\n",
    "        \"oprenafl\",\n",
    "        \"urninfec\",\n",
    "        \"cnscva\",\n",
    "        \"cdarrest\",\n",
    "        \"othbleed\",\n",
    "        \"othdvt\",\n",
    "        \"othcdiff\",\n",
    "        \"othsysep\",\n",
    "        \"othseshock\",\n",
    "        \"mortality\",\n",
    "    ]\n",
    "    vars_cat = [\n",
    "        \"race_new\",\n",
    "        \"diabetes\",\n",
    "        \"pro_prestage_t\",\n",
    "        \"pro_prestage_t_grouped\",\n",
    "        \"pro_prelymph_n\",\n",
    "        \"pro_prelymph_n_grouped\",\n",
    "        \"pro_predistantm_m\",\n",
    "        \"pro_predistantm_m_grouped\",\n",
    "        \"pro_tumorloc\",\n",
    "        \"pro_chemo\",\n",
    "        \"pro_chemo_grouped\",\n",
    "        \"asaclas\",\n",
    "        \"pro_approach\",\n",
    "        \"pro_approach_grouped\",\n",
    "        \"pro_pathstage_t\",\n",
    "        \"pro_pathstage_t_grouped\",\n",
    "        \"pro_pathlymph_n\",\n",
    "        \"pro_pathlymph_n_grouped\",\n",
    "        \"pro_pathdistantm_m\",\n",
    "        \"pro_pathdistantm_m_grouped\",\n",
    "        \"pro_marg_radial\",\n",
    "        \"pro_anastomic\",\n",
    "    ]\n",
    "\n",
    "if exp == 1:    \n",
    "    ### EXP1\n",
    "    my_data_view = \"public.vw_exp1\"\n",
    "    vars_num = [\"length_of_stay\", \"bmi\", \"age\", \"operative_time\"]\n",
    "    vars_bin = [\n",
    "        \"outcome\",\n",
    "        \"lap_converted_to_open\",\n",
    "        \"anastomotic_leak\",\n",
    "        \"bleeding_b\",\n",
    "        \"surgical_site_infection\",\n",
    "        \"deep_organ_space_infection\",\n",
    "        \"dopertod\",\n",
    "        \"reoperation1\",\n",
    "        \"readmission1\",\n",
    "        \"septic_shock\",\n",
    "        \"myocardial_infarction\",\n",
    "        \"acute_renal_failure\",\n",
    "        \"pneumonia\",\n",
    "        \"deep_vein_thrombosis\",\n",
    "        \"pulmonary_embolism\",\n",
    "        \"sex_male\",\n",
    "        \"smoke\",\n",
    "        \"hypertension\",\n",
    "        \"stroke\",\n",
    "        \"steroid\",\n",
    "        \"wtloss\",\n",
    "        \"bleeddis\",\n",
    "        \"hxchf\",\n",
    "        \"hxcopd\",\n",
    "    ]\n",
    "    vars_cat = [\n",
    "        \"race_new\",\n",
    "        \"diabetes\",\n",
    "        \"asaclas\",\n",
    "        \"pathologic_t_stage\",\n",
    "        \"pathologic_n_stage\",\n",
    "    ]"
   ]
  },
  {
   "cell_type": "code",
   "execution_count": 6,
   "metadata": {},
   "outputs": [],
   "source": [
    "num_cnt = len(vars_num)\n",
    "bin_cnt = len(vars_bin)\n",
    "cat_cnt = len(vars_cat)"
   ]
  },
  {
   "cell_type": "code",
   "execution_count": 7,
   "metadata": {},
   "outputs": [],
   "source": [
    "template = \"\"\"\n",
    "<!doctype html>\n",
    "<html lang=\"en\">\n",
    "  <head>\n",
    "    <!-- Required meta tags -->\n",
    "    <meta charset=\"utf-8\">\n",
    "    <meta name=\"viewport\" content=\"width=device-width, initial-scale=1, shrink-to-fit=no\">\n",
    "\n",
    "    <!-- Bootstrap CSS -->\n",
    "    <link rel=\"stylesheet\" href=\"https://stackpath.bootstrapcdn.com/bootstrap/4.5.0/css/bootstrap.min.css\" integrity=\"sha384-9aIt2nRpC12Uk9gS9baDl411NQApFmC26EwAOH8WgZl5MYYxFfc+NcPb1dKGj7Sk\" crossorigin=\"anonymous\">\n",
    "\n",
    "    <title>Stats</title>\n",
    "    <style>\n",
    "      table.cstats td:nth-child(3), table.cstats td:nth-child(4) {\n",
    "        background: LightSteelBlue;\n",
    "        text-align: right;\n",
    "      }\n",
    "      table.cstats td:nth-child(5), table.cstats td:nth-child(6) {\n",
    "        background: Cornsilk;\n",
    "        text-align: right;\n",
    "      } \n",
    "      #sum-table td:nth-child(n+2) {\n",
    "        text-align: right;\n",
    "      }\n",
    "      hr {\n",
    "        padding-bottom: 30px;\n",
    "      }\n",
    "    </style>\n",
    "    <!-- Load plotly.js into the DOM -->\n",
    "    <script src='https://cdn.plot.ly/plotly-latest.min.js'></script>\n",
    "    <script src=\"https://code.jquery.com/jquery-3.5.1.min.js\" integrity=\"sha256-9/aliU8dGd2tb6OSsuzixeV4y/faTqgFtohetphbbj0=\" crossorigin=\"anonymous\"></script>\n",
    "  </head>\n",
    "  <body>\n",
    "    <div class=\"container\">\n",
    "    <h1 id=\"my-var-0\">Variable Analysis</h1>\n",
    "\"\"\"\n",
    "f = open(\"D:/__DM__/outfile.html\", \"w\")\n",
    "f.write(template)\n",
    "f.close()\n",
    "#str(datetime.datetime.now())"
   ]
  },
  {
   "cell_type": "code",
   "execution_count": 8,
   "metadata": {},
   "outputs": [],
   "source": [
    "### EXPOSURE/TREATMENT CNT\n",
    "q = \"\"\"\n",
    "select intervention, count(*) \n",
    "from my_data_view group by intervention\n",
    "order by 1 desc\n",
    "\"\"\"\n",
    "q = q.replace('my_data_view', my_data_view)\n",
    "top = DM.fetch_df(q)\n",
    "treat_yes = top.query('intervention==\"Yes\"').iloc[0]\n",
    "treat_no = top.query('intervention==\"No\"').iloc[0]"
   ]
  },
  {
   "cell_type": "code",
   "execution_count": 9,
   "metadata": {},
   "outputs": [],
   "source": [
    "DM.fn_out_add_html(str(\"go \" + str(datetime.datetime.now())) + \"<br>\")\n",
    "stbl = \"\"\"\n",
    "<div id=\"divData\">\n",
    "<button id=\"buttonExport\" class=\"btn btn-success\" disabled>export</button>\n",
    "<table id=\"sum-table\" class=\"table table-sm table-bordered\">\n",
    "  <thead>\n",
    "    <tr style=\"background: SteelBlue; color: WhiteSmoke;\">\n",
    "      <th>Variable</th>\n",
    "      <th>Treatment YES<br><b>n=treat_yes</b></th>\n",
    "      <th>Treatment NO<br><b>n=treat_no</b></th>\n",
    "      <th>p-value</th>\n",
    "      <th>Missing values</th>\n",
    "    </tr>\n",
    "  </thead>\n",
    "  <tbody>\n",
    "  </tbody>\n",
    "</table>\n",
    "</div>\n",
    "\"\"\"\n",
    "stbl = stbl.replace('treat_yes', str(treat_yes[\"count\"])).replace('treat_no', str(treat_no[\"count\"]))\n",
    "DM.fn_out_add_html(stbl)\n",
    "#main variable counter\n",
    "i = 1"
   ]
  },
  {
   "cell_type": "code",
   "execution_count": 10,
   "metadata": {},
   "outputs": [
    {
     "data": {
      "text/html": [
       "<p class=\"alert alert-success\" style=\"font-size:xx-large;\">Numeric Variable Analysis</p>"
      ],
      "text/plain": [
       "<IPython.core.display.HTML object>"
      ]
     },
     "metadata": {},
     "output_type": "display_data"
    }
   ],
   "source": [
    "htm = '<p class=\"alert alert-success\" style=\"font-size:xx-large;\">Numeric Variable Analysis</p>'\n",
    "display(HTML(htm))\n",
    "DM.fn_out_add_html(htm)"
   ]
  },
  {
   "cell_type": "code",
   "execution_count": 11,
   "metadata": {
    "scrolled": false
   },
   "outputs": [
    {
     "data": {
      "text/html": [
       "<h3 id=\"my-var-1\">1. bmi</h3>\n",
       "    <div class=\"btn-group\" role=\"group\" aria-label=\"Basic example\">\n",
       "        <a class=\"btn btn-light\" href=\"#my-var-0\">&#9665;</a>\n",
       "        <a class=\"btn btn-light\" href=\"#my-var-1\">&#9673;</a>\n",
       "        <a class=\"btn btn-light\" href=\"#my-var-2\">&#9655;</a>\n",
       "    </div>  \n",
       "    "
      ],
      "text/plain": [
       "<IPython.core.display.HTML object>"
      ]
     },
     "metadata": {},
     "output_type": "display_data"
    },
    {
     "name": "stdout",
     "output_type": "stream",
     "text": [
      "P-Value:3.977792861632596e-12 T-Statistic:-6.965129751531063\n"
     ]
    },
    {
     "data": {
      "image/png": "[encoded data removed]",
      "text/plain": [
       "<Figure size 432x288 with 1 Axes>"
      ]
     },
     "metadata": {
      "needs_background": "light"
     },
     "output_type": "display_data"
    }
   ],
   "source": [
    "for var in vars_num:\n",
    "    # print(var)\n",
    "    hd = DM.fn_var_header(var, i)  \n",
    "    display(HTML(hd))\n",
    "    DM.fn_out(hd)    \n",
    "    #stdev\n",
    "    dfs = DM.db_num_var_stdev(var, my_data_view)\n",
    "    DM.fn_out_tbl_num(dfs, i)\n",
    "    # fetch db data\n",
    "    df = DM.db_num_var(var, my_data_view)\n",
    "    df[\"my_var\"] = pd.to_numeric(df[\"my_var\"])\n",
    "    a = df.query(\"intervention=='Yes'\").my_var.to_list()\n",
    "    b = df.query(\"intervention=='No'\").my_var.to_list()\n",
    "    sns.kdeplot(a, shade=True)\n",
    "    sns.kdeplot(b, shade=True)\n",
    "    plt.title(\"Independent Sample T-Test \" + var)\n",
    "    plt.savefig(\"D:/__DM__/img_\" + var + \".png\") \n",
    "    \n",
    "    DM.fn_out_add_html('<div><img src=\"img_' + var + '.png\" alt=\"...\" class=\"img-thumbnail\"></div>')\n",
    "    plt.close()\n",
    "    plt.clf()\n",
    "    plt.cla()\n",
    "    tStat, pValue = stats.ttest_ind(a, b, equal_var = False) #run independent sample T-Test\n",
    "    print(\"P-Value:{0} T-Statistic:{1}\".format(pValue,tStat)) #print the P-Value and the T-Statistic  \n",
    "    # DM.fn_out_add_html(\"P-Value: {0} T-Statistic: {1}\".format(pValue, tStat, 8))\n",
    "    DM.fn_out_add_html('P-value: <span id=\"pvalue' + str(i) + '\">' + str(pValue) + '</span>')\n",
    "    DM.fn_out_add_html(' T-Statistic: <span id=\"tstat' + str(i) + '\">' + str(tStat) + '</span>')\n",
    "    DM.fn_out_add_html(\"<hr>\")\n",
    "    i = i + 1\n",
    "    "
   ]
  },
  {
   "cell_type": "code",
   "execution_count": 12,
   "metadata": {},
   "outputs": [
    {
     "data": {
      "text/html": [
       "<p class=\"alert alert-danger\" style=\"font-size:xx-large;\">Binary Variable Analysis</p>"
      ],
      "text/plain": [
       "<IPython.core.display.HTML object>"
      ]
     },
     "metadata": {},
     "output_type": "display_data"
    }
   ],
   "source": [
    "htm = '<p class=\"alert alert-danger\" style=\"font-size:xx-large;\">Binary Variable Analysis</p>'\n",
    "display(HTML(htm))\n",
    "DM.fn_out_add_html(htm)"
   ]
  },
  {
   "cell_type": "code",
   "execution_count": 13,
   "metadata": {
    "scrolled": true
   },
   "outputs": [
    {
     "data": {
      "image/png": "[encoded data removed]",
      "text/plain": [
       "<Figure size 432x288 with 1 Axes>"
      ]
     },
     "metadata": {
      "needs_background": "light"
     },
     "output_type": "display_data"
    }
   ],
   "source": [
    "### BINARY VARS\n",
    "for var in vars_bin:\n",
    "    hd = DM.fn_var_header(var, i)   \n",
    "    # display(HTML(hd))\n",
    "    DM.fn_out_add_html(hd)\n",
    "    #variable info\n",
    "    var_desc = DM.db_var_desc(var)\n",
    "    num_rows = len(var_desc.index)\n",
    "    if num_rows > 0:\n",
    "        DM.fn_out_tbl_simple(var_desc)\n",
    "    #analyze var\n",
    "    dfv = DM.pull_db(var, my_data_view)\n",
    "    dfv = dfv.replace({None: 'nulls'})\n",
    "    #data frame to html table\n",
    "    html = dfv.to_html()\n",
    "    DM.fn_out_tbl(html, i)   \n",
    "    # heatmap   \n",
    "    a4_dims = (8,8)\n",
    "    fig, ax = plt.subplots(figsize=a4_dims)\n",
    "    sns.heatmap(ax=ax, data=DM.perc_heat(dfv), annot=True, cmap=\"YlGnBu\", square=True, linewidths=1, annot_kws={'size':16}, vmin=0, vmax=100, fmt=\".2f\")\n",
    "    fig.savefig(\"D:/__DM__/img/img_heat_\" + str(i) + \".png\") \n",
    "    plt.close()\n",
    "    plt.clf()\n",
    "    plt.cla()    \n",
    "    # heatmap end\n",
    "    col1 = dfv.columns[0]\n",
    "    x = dfv.query(\"{0} not in ('nulls', 'NA')\".format(col1))[[\"catA\", \"catB\"]] #kill ouright NULL values from the matrix \n",
    "    arr = x.to_numpy()\n",
    "    k1,k2,k3,k4 = stats.chi2_contingency(arr)\n",
    "    DM.fn_out_add_html('P-value: <span id=\"pvalue' + str(i) + '\">' + str(k2) + '</span>')\n",
    "    DM.fn_out_add_html(\"<hr>\") \n",
    "    i = i + 1\n"
   ]
  },
  {
   "cell_type": "code",
   "execution_count": 14,
   "metadata": {},
   "outputs": [
    {
     "data": {
      "text/html": [
       "<p class=\"alert alert-info\" style=\"font-size:xx-large;\">Categorical Variable Analysis</p>"
      ],
      "text/plain": [
       "<IPython.core.display.HTML object>"
      ]
     },
     "metadata": {},
     "output_type": "display_data"
    }
   ],
   "source": [
    "htm = '<p class=\"alert alert-info\" style=\"font-size:xx-large;\">Categorical Variable Analysis</p>'\n",
    "display(HTML(htm))\n",
    "DM.fn_out_add_html(htm)"
   ]
  },
  {
   "cell_type": "code",
   "execution_count": 15,
   "metadata": {},
   "outputs": [
    {
     "data": {
      "image/png": "[encoded data removed]",
      "text/plain": [
       "<Figure size 432x288 with 1 Axes>"
      ]
     },
     "metadata": {
      "needs_background": "light"
     },
     "output_type": "display_data"
    }
   ],
   "source": [
    "### CATEGORICAL VARS \n",
    "for var in vars_cat:\n",
    "    hd = DM.fn_var_header(var, i)    \n",
    "    # display(HTML(hd))\n",
    "    DM.fn_out_add_html(hd)\n",
    "    #variable info\n",
    "    var_desc = DM.db_var_desc(var)\n",
    "    num_rows = len(var_desc.index)\n",
    "    if num_rows > 0:\n",
    "        DM.fn_out_tbl_simple(var_desc)\n",
    "    #analyze var\n",
    "    dfv = DM.pull_db(var, my_data_view)\n",
    "    dfv = dfv.replace({None: 'nulls'})\n",
    "    #data frame to html table\n",
    "    html = dfv.to_html()\n",
    "    DM.fn_out_tbl(html, i) \n",
    "    # heatmap\n",
    "    a4_dims = (8,8)\n",
    "    fig, ax = plt.subplots(figsize=a4_dims)\n",
    "    sns.heatmap(ax=ax, data=DM.perc_heat(dfv), annot=True, cmap=\"YlGnBu\", square=True, linewidths=1, annot_kws={'size':16}, vmin=0, vmax=100, fmt=\".2f\")\n",
    "    fig.savefig(\"D:/__DM__/img/img_heat_\" + str(i) + \".png\") \n",
    "    plt.close()\n",
    "    plt.clf()\n",
    "    plt.cla()    \n",
    "    # heatmap end    \n",
    "    col1 = dfv.columns[0]\n",
    "    x = dfv.query(\"{0} not in ('nulls', 'NA')\".format(col1))[[\"catA\", \"catB\"]] #kill ouright NULL values from the matrix \n",
    "    arr = x.to_numpy()\n",
    "    k1,k2,k3,k4 = stats.chi2_contingency(arr)\n",
    "    DM.fn_out_add_html('P-value: <span id=\"pvalue' + str(i) + '\">' + str(k2) + '</span>')\n",
    "    DM.fn_out_add_html(\"<hr>\") \n",
    "    i = i + 1"
   ]
  },
  {
   "cell_type": "code",
   "execution_count": 16,
   "metadata": {},
   "outputs": [],
   "source": [
    "DM.fn_out(\"stop \" + str(datetime.datetime.now()) + \"<br>\")"
   ]
  },
  {
   "cell_type": "code",
   "execution_count": 17,
   "metadata": {},
   "outputs": [],
   "source": [
    "# produce summary table using javascript\n",
    "scr = \"\"\"\n",
    "    <script>\n",
    "      //30-33 numeric vars\n",
    "      var row1 = '<tr><td colspan=\"5\"><h3>Numeric Variables</h3></td></tr>';\n",
    "      $(\"#sum-table tbody\").append(row1);      \n",
    "      for (i = 1; i <= num_cnt; i++) {\n",
    "        elem = \"table\" + i;\n",
    "        n = '';\n",
    "        var title = $(\"#\" + elem + \" tr:nth-child(1) td:nth-child(6)\").text();\n",
    "        //var row1 = '<tr><td colspan=\"5\"><b>' + title + '</b></td></tr>';\n",
    "        //$(\"#sum-table tbody\").append(row1);\n",
    "\n",
    "        var t2 = $(\"#\" + elem + \" tr:nth-child(1) td:nth-child(4)\").text();\n",
    "        var p2 = $(\"#\" + elem + \" tr:nth-child(1) td:nth-child(5)\").text();\n",
    "        var t3 = $(\"#\" + elem + \" tr:nth-child(2) td:nth-child(4)\").text();\n",
    "        var p3 = $(\"#\" + elem + \" tr:nth-child(2) td:nth-child(5)\").text();\n",
    "        var pv = $(\"#pvalue\" + i).text()\n",
    "        var missing = parseInt($(\"#\" + elem + \" tr:nth-child(1) td:nth-child(7)\").text()) + \n",
    "                      parseInt($(\"#\" + elem + \" tr:nth-child(2) td:nth-child(7)\").text());\n",
    "          var row2 = '<tr><td><span class=\"badge badge-primary\">' + title + '</span></td><td>' + t2 + ' (+/-' + p2 + ')' + '</td>' +\n",
    "            '<td>' + t3 + ' (+/-' + p3 + ')' + '</td><td>' + pv + '</td><td>' + missing + '</td></tr>';\n",
    "          $(\"#sum-table tbody\").append(row2);\n",
    "\n",
    "      }  \n",
    "      \n",
    "      \n",
    "      // binary variables\n",
    "      for (i = num_cnt + 1; i <= num_cnt + bin_cnt; i++) {\n",
    "        var n = '';\n",
    "        elem = \"table\" + i;\n",
    "        var tableRow = $(\"#\" + elem + \" td\").filter(function () {\n",
    "          return $(this).text() == \"NA\";\n",
    "        }).closest(\"tr\");\n",
    "        if (tableRow[0] !== undefined) {\n",
    "          var n2 = $(tableRow[0]).find(\"td:eq(1)\").text();\n",
    "          var n3 = $(tableRow[0]).find(\"td:eq(2)\").text();\n",
    "          n = parseInt(n2) + parseInt(n3)\n",
    "          // console.log(n);\n",
    "        }\n",
    "        var title = $(\"#\" + elem + \" th:nth-child(2)\").text();\n",
    "        var t2 = $(\"#\" + elem + \" tr:nth-child(1) td:nth-child(3)\").text();\n",
    "        var p2 = $(\"#\" + elem + \" tr:nth-child(1) td:nth-child(5)\").text();\n",
    "        var t3 = $(\"#\" + elem + \" tr:nth-child(1) td:nth-child(4)\").text();\n",
    "        var p3 = $(\"#\" + elem + \" tr:nth-child(1) td:nth-child(6)\").text();\n",
    "        var pv = $(\"#pvalue\" + i).text();\n",
    "        var value = $(\"#\" + elem + \" tr:nth-child(1) td:nth-child(2)\").text();\n",
    "        var row2 = '<tr><td><span class=\"badge badge-secondary\">' + title + '</span> (' + value + ')</td><td>' + t2 + ' (' + p2 + ')' + '</td>' +\n",
    "          '<td>' + t3 + ' (' + p3 + ')' + '</td><td>' + pv + '</td><td>' + n + '</td></tr>';\n",
    "        if (i == num_cnt + 1) {\n",
    "          var row1 = '<tr><td colspan=\"5\"><h3>Binary Variables</h3></td></tr>';\n",
    "          $(\"#sum-table tbody\").append(row1);\n",
    "        }\n",
    "        $(\"#sum-table tbody\").append(row2);\n",
    "      };\n",
    "      \n",
    "      \n",
    "      //last categorical vars\n",
    "      var row1 = '<tr><td colspan=\"5\"><h3>Categorical Variables</h3></td></tr>';\n",
    "      $(\"#sum-table tbody\").append(row1);\n",
    "      for (i = num_cnt + bin_cnt + 1; i <= num_cnt + bin_cnt + cat_cnt; i++) {\n",
    "        var pv = $(\"#pvalue\" + i).text()\n",
    "        var title = $(\"#table\" + i + \" th:nth-child(2)\").text();\n",
    "        var row1 = '<tr><td colspan=\"3\"><span class=\"badge badge-info\">' + title + '</span></td><td>' + pv + '</td><td></td></tr>';\n",
    "        $(\"#sum-table tbody\").append(row1);\n",
    "        $(\"#table\" + i + \" > tbody  > tr\").each(function (index, tr) {\n",
    "          //console.log(index);\n",
    "          title = $(tr).find(\"td:eq(0)\").text();\n",
    "          t2 = $(tr).find(\"td:eq(1)\").text();\n",
    "          p2 = $(tr).find(\"td:eq(3)\").text();\n",
    "          t3 = $(tr).find(\"td:eq(2)\").text();\n",
    "          p3 = $(tr).find(\"td:eq(4)\").text();\n",
    "          var row2 = '<tr><td>' + title + '</td><td>' + t2 + ' (' + p2 + ')' + '</td>' +\n",
    "            '<td>' + t3 + ' (' + p3 + ')' + '</td><td>' + '</td><td>' + n + '</td></tr>';\n",
    "          $(\"#sum-table tbody\").append(row2);\n",
    "        });\n",
    "      }\n",
    "    </script>\n",
    "\"\"\"\n",
    "scr = scr.replace('bin_cnt', str(bin_cnt))\n",
    "scr = scr.replace('cat_cnt', str(cat_cnt))\n",
    "scr = scr.replace('num_cnt', str(num_cnt))\n",
    "DM.fn_out_add_html(scr)"
   ]
  },
  {
   "cell_type": "code",
   "execution_count": 18,
   "metadata": {},
   "outputs": [],
   "source": [
    "### xls export javascript\n",
    "xls = \"\"\"\n",
    "    <script>\n",
    "      $(document).ready(() => {\n",
    "        $(\"#buttonExport\").prop('disabled', false);\n",
    "        $(\"#buttonExport\").click(e => {\n",
    "          console.log('export');\n",
    "          // Getting values of current time for generating the file name\n",
    "          const dateTime = new Date();\n",
    "          const day = dateTime.getDate();\n",
    "          const month = dateTime.getMonth() + 1;\n",
    "          const year = dateTime.getFullYear();\n",
    "          const hour = dateTime.getHours();\n",
    "          const minute = dateTime.getMinutes();\n",
    "          const postfix = `${day}.${month}.${year}_${hour}.${minute}`;\n",
    "\n",
    "          // Creating a temporary HTML link element (they support setting file names)\n",
    "          const downloadElement = document.createElement('a');\n",
    "\n",
    "          // Getting data from our `div` that contains the HTML table\n",
    "          const dataType = 'data:application/vnd.ms-excel';\n",
    "          const tableDiv = document.getElementById('divData');\n",
    "          const tableHTML = tableDiv.outerHTML.replace(/ /g, '%20');\n",
    "\n",
    "          // Setting the download source\n",
    "          downloadElement.href = `${dataType},${tableHTML}`;\n",
    "\n",
    "          // Setting the file name\n",
    "          downloadElement.download = `exported_table_${postfix}.xls`;\n",
    "\n",
    "          // Trigger the download\n",
    "          downloadElement.click();\n",
    "\n",
    "          // Just in case, prevent default behaviour\n",
    "          e.preventDefault();\n",
    "        });\n",
    "      });\n",
    "    </script>\n",
    "<body>\n",
    "</html>\n",
    "\"\"\"\n",
    "DM.fn_out_add_html(xls)"
   ]
  },
  {
   "cell_type": "code",
   "execution_count": 19,
   "metadata": {},
   "outputs": [
    {
     "name": "stdout",
     "output_type": "stream",
     "text": [
      "2020-08-08 21:10:08.619545\n"
     ]
    }
   ],
   "source": [
    "print(str(datetime.datetime.now()))"
   ]
  }
 ],
 "metadata": {
  "kernelspec": {
   "display_name": "Python 3.8.2 64-bit",
   "language": "python",
   "name": "python38264bita446d13bdee4462e9c87b5d25aac8d03"
  },
  "language_info": {
   "codemirror_mode": {
    "name": "ipython",
    "version": 3
   },
   "file_extension": ".py",
   "mimetype": "text/x-python",
   "name": "python",
   "nbconvert_exporter": "python",
   "pygments_lexer": "ipython3",
   "version": "3.8.2"
  }
 },
 "nbformat": 4,
 "nbformat_minor": 4
}
